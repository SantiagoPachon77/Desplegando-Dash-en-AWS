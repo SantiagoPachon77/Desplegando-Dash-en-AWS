{
 "cells": [
  {
   "cell_type": "code",
   "execution_count": null,
   "id": "281c840f",
   "metadata": {},
   "outputs": [],
   "source": [
    "import dash\n",
    "from dash import dcc\n",
    "from dash import html\n",
    "from dash.dependencies import Input, Output\n",
    "import plotly.graph_objs as go\n",
    "import numpy as np\n",
    "import pandas as pd\n",
    "import datetime as dt"
   ]
  },
  {
   "cell_type": "code",
   "execution_count": 20,
   "id": "bfd9d9b2",
   "metadata": {},
   "outputs": [],
   "source": [
    "def load_data():\n",
    "    df = pd.read_csv(\"datos_energia.csv\")\n",
    "    df.time = pd.to_datetime(df.time)\n",
    "    df = df.set_index('time')\n",
    "    return df\n",
    "    # To do: Completar la función \n",
    "    \n",
    "\n",
    "# Cargar datos\n",
    "data = load_data()"
   ]
  },
  {
   "cell_type": "code",
   "execution_count": 21,
   "id": "0190893c",
   "metadata": {},
   "outputs": [
    {
     "data": {
      "text/plain": [
       "array([datetime.time(17, 0), datetime.time(18, 0), datetime.time(19, 0),\n",
       "       ..., datetime.time(23, 0), datetime.time(0, 0),\n",
       "       datetime.time(1, 0)], dtype=object)"
      ]
     },
     "execution_count": 21,
     "metadata": {},
     "output_type": "execute_result"
    }
   ],
   "source": [
    "data.index.time"
   ]
  },
  {
   "cell_type": "code",
   "execution_count": null,
   "id": "e5c1a93a",
   "metadata": {},
   "outputs": [],
   "source": []
  }
 ],
 "metadata": {
  "kernelspec": {
   "display_name": "Python 3 (ipykernel)",
   "language": "python",
   "name": "python3"
  },
  "language_info": {
   "codemirror_mode": {
    "name": "ipython",
    "version": 3
   },
   "file_extension": ".py",
   "mimetype": "text/x-python",
   "name": "python",
   "nbconvert_exporter": "python",
   "pygments_lexer": "ipython3",
   "version": "3.9.13"
  }
 },
 "nbformat": 4,
 "nbformat_minor": 5
}
